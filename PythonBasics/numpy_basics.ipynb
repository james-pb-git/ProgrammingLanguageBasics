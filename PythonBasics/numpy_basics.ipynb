{
 "cells": [
  {
   "cell_type": "code",
   "execution_count": 1,
   "metadata": {
    "_cell_guid": "b1076dfc-b9ad-4769-8c92-a6c4dae69d19",
    "_uuid": "8f2839f25d086af736a60e9eeb907d3b93b6e0e5"
   },
   "outputs": [],
   "source": [
    "import numpy as np # linear algebra\n",
    "import pandas as pd # data processing, CSV file I/O (e.g. pd.read_csv)\n",
    "import os"
   ]
  },
  {
   "cell_type": "code",
   "execution_count": 3,
   "metadata": {
    "_cell_guid": "79c7e3d0-c299-4dcb-8224-4455121ee9b0",
    "_uuid": "d629ff2d2480ee46fbb7e2d37f6b5fab8052498a"
   },
   "outputs": [
    {
     "name": "stdout",
     "output_type": "stream",
     "text": [
      "(3,)\n",
      "(3, 1)\n",
      "(1, 3)\n",
      "(3,)\n",
      "(3,)\n"
     ]
    },
    {
     "data": {
      "text/plain": [
       "array([[1, 2, 3]])"
      ]
     },
     "execution_count": 3,
     "metadata": {},
     "output_type": "execute_result"
    }
   ],
   "source": [
    "# Notice the difference between one-dimension and two-dimension arrays\n",
    "# Also remember shape is an attribute, not a method.\n",
    "arr_3 = np.array([1,2,3])\n",
    "arr_3_1 = np.array([[1],[2],[3]])\n",
    "arr_1_3 = np.array([[1,2,3]])\n",
    "print(arr_3.shape)\n",
    "print(arr_3_1.shape)\n",
    "print(arr_1_3.shape)\n",
    "\n",
    "# Use squeeze to remove axes of length 1.\n",
    "arr_sq1 = np.squeeze(arr_3_1)\n",
    "arr_sq2 = np.squeeze(arr_1_3)\n",
    "print(arr_sq1.shape)\n",
    "print(arr_sq2.shape)\n",
    "\n",
    "# Use reshape to add dimensions.\n",
    "arr_sq1.reshape(1,3)\n",
    "\n",
    "# Reference: https://stackoverflow.com/questions/27570756/difference-between-these-array-shapes-in-numpy"
   ]
  },
  {
   "cell_type": "code",
   "execution_count": null,
   "metadata": {
    "_uuid": "bae940cca67f0ad14a7266c05ad6cc3254cff4a6"
   },
   "outputs": [],
   "source": []
  }
 ],
 "metadata": {
  "kernelspec": {
   "display_name": "Python 3",
   "language": "python",
   "name": "python3"
  },
  "language_info": {
   "codemirror_mode": {
    "name": "ipython",
    "version": 3
   },
   "file_extension": ".py",
   "mimetype": "text/x-python",
   "name": "python",
   "nbconvert_exporter": "python",
   "pygments_lexer": "ipython3",
   "version": "3.6.5"
  }
 },
 "nbformat": 4,
 "nbformat_minor": 1
}
