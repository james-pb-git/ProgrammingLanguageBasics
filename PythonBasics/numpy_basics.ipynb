{
  "cells": [
    {
      "metadata": {
        "_uuid": "8f2839f25d086af736a60e9eeb907d3b93b6e0e5",
        "_cell_guid": "b1076dfc-b9ad-4769-8c92-a6c4dae69d19",
        "trusted": true
      },
      "cell_type": "code",
      "source": "# This Python 3 environment comes with many helpful analytics libraries installed\n# It is defined by the kaggle/python docker image: https://github.com/kaggle/docker-python\n# For example, here's several helpful packages to load in \n\nimport numpy as np # linear algebra\nimport pandas as pd # data processing, CSV file I/O (e.g. pd.read_csv)\n\n# Input data files are available in the \"../input/\" directory.\n# For example, running this (by clicking run or pressing Shift+Enter) will list the files in the input directory\n\nimport os\nprint(os.listdir(\"../input\"))\n\n# Any results you write to the current directory are saved as output.",
      "execution_count": 1,
      "outputs": [
        {
          "output_type": "stream",
          "text": "[]\n",
          "name": "stdout"
        }
      ]
    },
    {
      "metadata": {
        "_cell_guid": "79c7e3d0-c299-4dcb-8224-4455121ee9b0",
        "_uuid": "d629ff2d2480ee46fbb7e2d37f6b5fab8052498a",
        "trusted": true
      },
      "cell_type": "code",
      "source": "# Notice the difference between one-dimension and two-dimension arrays\n# Also remember shape is an attribute, not a method.\narr_3 = np.array([1,2,3])\narr_3_1 = np.array([[1],[2],[3]])\narr_1_3 = np.array([[1,2,3]])\nprint(arr_3.shape)\nprint(arr_3_1.shape)\nprint(arr_1_3.shape)\n\n# Use squeeze to remove axes of length 1.\narr_sq1 = np.squeeze(arr_3_1)\narr_sq2 = np.squeeze(arr_1_3)\nprint(arr_sq1.shape)\nprint(arr_sq2.shape)\n\n# Reference: https://stackoverflow.com/questions/27570756/difference-between-these-array-shapes-in-numpy",
      "execution_count": 9,
      "outputs": [
        {
          "output_type": "stream",
          "text": "(3,)\n(3, 1)\n(1, 3)\n(3,)\n(3,)\n",
          "name": "stdout"
        }
      ]
    },
    {
      "metadata": {
        "trusted": true,
        "_uuid": "bae940cca67f0ad14a7266c05ad6cc3254cff4a6"
      },
      "cell_type": "code",
      "source": "",
      "execution_count": null,
      "outputs": []
    }
  ],
  "metadata": {
    "kernelspec": {
      "display_name": "Python 3",
      "language": "python",
      "name": "python3"
    },
    "language_info": {
      "name": "python",
      "version": "3.6.6",
      "mimetype": "text/x-python",
      "codemirror_mode": {
        "name": "ipython",
        "version": 3
      },
      "pygments_lexer": "ipython3",
      "nbconvert_exporter": "python",
      "file_extension": ".py"
    }
  },
  "nbformat": 4,
  "nbformat_minor": 1
}