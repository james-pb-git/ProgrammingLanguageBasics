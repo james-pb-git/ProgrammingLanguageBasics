{
 "cells": [
  {
   "cell_type": "code",
   "execution_count": 227,
   "metadata": {},
   "outputs": [
    {
     "name": "stdout",
     "output_type": "stream",
     "text": [
      "-6\n",
      "-5.4\n",
      "-5\n",
      "-5\n",
      "-0b1111011 7\n",
      "True\n"
     ]
    }
   ],
   "source": [
    "# Numbers\n",
    "import math\n",
    "x = -5.42\n",
    "examples = [math.floor(x), # the largest integer i <= x\n",
    "            round(x,1),\n",
    "            math.trunc(x), # the nearest interger towards zero.\n",
    "            math.ceil(x)\n",
    "           ]\n",
    "for ex in examples:\n",
    "    print(ex)\n",
    "    \n",
    "i = -123\n",
    "print(bin(i), i.bit_length())\n",
    "\n",
    "d = 3.0\n",
    "print(d.is_integer())"
   ]
  },
  {
   "cell_type": "markdown",
   "metadata": {},
   "source": [
    "## Strings"
   ]
  },
  {
   "cell_type": "code",
   "execution_count": 279,
   "metadata": {},
   "outputs": [
    {
     "name": "stdout",
     "output_type": "stream",
     "text": [
      "[1, 2, 3]\n",
      "abc\n",
      "{1: 2, 3: 4}\n",
      "[(1, 2), (3, 4)]\n",
      "{1, 2, 3}\n",
      "[1, 2, 3]\n"
     ]
    }
   ],
   "source": [
    "# conversions\n",
    "## string <-> list\n",
    "arr = list(\"abcd\")\n",
    "str = ''.join(['a', 'b', 'c'])\n",
    "\n",
    "## list <-> dict\n",
    "my_dict = dict([[1,2],[3,4]])\n",
    "my_dict = dict([(1,2),(3,4)]) # Also works\n",
    "items = list(my_dict.items())\n",
    "\n",
    "## set <-> list\n",
    "my_set = set([1,2,3])\n",
    "arr = list(my_set)\n",
    "print(arr)\n",
    "print(str)\n",
    "print(my_dict)\n",
    "print(items)\n",
    "print(my_set)\n",
    "print(arr)"
   ]
  },
  {
   "cell_type": "code",
   "execution_count": 257,
   "metadata": {},
   "outputs": [
    {
     "name": "stdout",
     "output_type": "stream",
     "text": [
      "HelloWorld\n",
      "Newlines are defined by \\n.\n",
      "abcdefghijklmnopqrstuvwxyz\n",
      "abcdefghijklmnopqrstuvwxyz\n",
      "3\n",
      "2\n",
      "-1\n",
      "True\n",
      "9\n",
      "Heaao worad\n"
     ]
    }
   ],
   "source": [
    "# A backslash inside string doesn't start a new line in that string.\n",
    "str1 = \"Hello\\\n",
    "World\"\n",
    "print(str1)\n",
    "\n",
    "# 'r' before string.\n",
    "str2 = r\"Newlines are defined by \\n.\"\n",
    "print(str2)\n",
    "\n",
    "# string variables cannot be modified.\n",
    "# str2[0] = 'n' # ERROR HERE\n",
    "\n",
    "# When concatenating immutable variables, new objects are created.\n",
    "# So this is inefficient:\n",
    "str = ''\n",
    "for idx in range(26):\n",
    "    str += chr(97+idx)\n",
    "print(str)\n",
    "# A much better way is:\n",
    "arr = []\n",
    "for idx in range(26):\n",
    "    arr.append(chr(97+idx))\n",
    "print(''.join(arr))\n",
    "\n",
    "str = \"Hello world\"\n",
    "print(str.count('l'))\n",
    "print(str.find('l'))\n",
    "print(str.find('p')) # if str.index('p') is used, a ValueError would be raised\n",
    "print(str.endswith('d'))\n",
    "print(str.rfind('l'))\n",
    "print(str.replace('l', 'a'))\n",
    "\n",
    "# methods: split, strip, rstrip, upper, lower, isupper, startswith"
   ]
  },
  {
   "cell_type": "markdown",
   "metadata": {},
   "source": [
    "# Linear containers \n",
    "Sequence: built-in - list, tuple, range"
   ]
  },
  {
   "cell_type": "code",
   "execution_count": 248,
   "metadata": {},
   "outputs": [
    {
     "name": "stdout",
     "output_type": "stream",
     "text": [
      "[0, -1, -2, 3, 5]\n",
      "[(2, 6), (1, 5), (4, 2), (3, 1)]\n"
     ]
    }
   ],
   "source": [
    "# Sort\n",
    "array = [0,3,-1,5,-2]\n",
    "array.sort(key = lambda x: abs(x)) # in place\n",
    "print(array)\n",
    "my_dict = {1:5, 2:6, 3:1, 4:2}\n",
    "print(sorted(my_dict.items(), key = lambda x:x[1], reverse=True))"
   ]
  },
  {
   "cell_type": "code",
   "execution_count": 258,
   "metadata": {},
   "outputs": [
    {
     "name": "stdout",
     "output_type": "stream",
     "text": [
      "[3, 3, 2, 1, 3, 3, 2, 1] [3, 3, 2, 1, 4, 5, 6]\n",
      "0\n",
      "2\n",
      "[1]\n",
      "[5, 1]\n",
      "[5]\n"
     ]
    }
   ],
   "source": [
    "a = [1,2,3,3]\n",
    "a.reverse() # reverse inplace\n",
    "b = [4,5,6]\n",
    "print(a * 2, a + b)\n",
    "a.extend(b) # concatenate in place\n",
    "print(a.index(3))\n",
    "print(a.count(3))\n",
    "del a[0:3] # the same as a[0:3] = []\n",
    "print(a)\n",
    "a.insert(0, 5)\n",
    "print(a)\n",
    "a.pop()\n",
    "print(a)\n",
    "\n",
    "# methods remove(first matched value)"
   ]
  },
  {
   "cell_type": "code",
   "execution_count": 203,
   "metadata": {},
   "outputs": [
    {
     "name": "stdout",
     "output_type": "stream",
     "text": [
      "1\n",
      "2\n",
      "3\n",
      "4\n",
      "5\n",
      "\n",
      "5\n",
      "4\n",
      "3\n",
      "2\n",
      "1\n"
     ]
    }
   ],
   "source": [
    "# Iterables are objects with a __iter__ or __getitem__ method, including list, dict etc.\n",
    "# In fact, we can iterate a list like this:\n",
    "arr = [1, 2, 3, 4, 5]\n",
    "it = arr.__iter__()\n",
    "# it = iter(arr) # This works just the same.\n",
    "for _ in range(len(arr)):\n",
    "    print(next(it))\n",
    "print('')\n",
    "\n",
    "## another way to do this\n",
    "# rit = arr.__reversed__()\n",
    "rit = reversed(arr) # Just the same\n",
    "for _ in range(len(arr)):\n",
    "    print(next(rit))\n",
    "    \n",
    "# zip\n",
    "a = [1,2,3]\n",
    "b = [1,2,3,4,5]\n",
    "for (i,j) in zip(a, b):\n",
    "    print(i,j)"
   ]
  },
  {
   "cell_type": "code",
   "execution_count": 2,
   "metadata": {},
   "outputs": [
    {
     "name": "stdout",
     "output_type": "stream",
     "text": [
      "[0, 1, 2]\n"
     ]
    }
   ],
   "source": [
    "arr = [[0], [1, 2]]\n",
    "print(sum(arr, [])) # sum(arr, start) -> start + arr[0] + arr[1] + ..."
   ]
  },
  {
   "cell_type": "code",
   "execution_count": 236,
   "metadata": {},
   "outputs": [
    {
     "name": "stdout",
     "output_type": "stream",
     "text": [
      "[[0, 0, 0], [0, 0, 0], [0, 0, 0], [0, 0, 0]]\n",
      "[[1, 0, 0], [1, 0, 0], [1, 0, 0], [1, 0, 0]]\n",
      "[[0, 0, 0], [0, 0, 0], [0, 0, 0], [0, 0, 0]]\n",
      "[[1, 0, 0], [0, 0, 0], [0, 0, 0], [0, 0, 0]]\n"
     ]
    }
   ],
   "source": [
    "# 2d array init\n",
    "# When multiplying by 4, basically the REFERENCE of the subarray is copied 4 times.\n",
    "# That's the reason why modifying one would affect others.\n",
    "arr2d = [[0] * 3] * 4\n",
    "print(arr2d)\n",
    "arr2d[0][0] += 1\n",
    "print(arr2d)\n",
    "\n",
    "# Correct way\n",
    "arr2d = [[0 for _ in range(3)] for _ in range(4)]\n",
    "print(arr2d)\n",
    "arr2d[0][0] += 1\n",
    "print(arr2d)"
   ]
  },
  {
   "cell_type": "code",
   "execution_count": 295,
   "metadata": {},
   "outputs": [
    {
     "name": "stdout",
     "output_type": "stream",
     "text": [
      "dict_keys(['a', 'b', 'c'])  ->  ['a', 'b', 'c']\n",
      "dict_values([1, 2, 5])  ->  [1, 2, 5]\n",
      "dict_items([('a', 1), ('b', 2), ('c', 5)])  ->  [('a', 1), ('b', 2), ('c', 5)]\n",
      "{'a': 1, 'b': 2, 'c': 3, 'd': 4}\n",
      "3 {'a': 1, 'b': 2, 'd': 4}\n",
      "{'a': 1, 'b': 2, 'd': 4}\n",
      "{'a': 1, 'b': 2, 'd': 4, 'e': -1}\n"
     ]
    }
   ],
   "source": [
    "## dict\n",
    "my_dict = {'a': 1, 'b': 2, 'c': 5}\n",
    "examples = [my_dict.keys(),\n",
    "           my_dict.values(),\n",
    "           my_dict.items()]\n",
    "for ex in examples:\n",
    "    print(ex, \" -> \", list(ex))\n",
    "    \n",
    "my_dict.update({'c': 3, 'd': 4})\n",
    "print(my_dict)\n",
    "print(my_dict.pop('c'), my_dict)\n",
    "\n",
    "my_dict.get('e', -1)\n",
    "print(my_dict)\n",
    "# Notice that setdefault is actually a \"get\" method,\n",
    "# except it will set the default value if key is not found.\n",
    "my_dict.setdefault('e', -1)\n",
    "print(my_dict)"
   ]
  },
  {
   "cell_type": "code",
   "execution_count": 322,
   "metadata": {},
   "outputs": [
    {
     "name": "stdout",
     "output_type": "stream",
     "text": [
      "{1, 3, 5}\n",
      "my set:  {1, 2, 3, 4, 5}\n",
      "{1, 2, 3, 4, 5, 7}\n",
      "{1, 2}\n",
      "{3, 4, 5}\n",
      "{3, 4, 5, 7}\n",
      "True False True\n",
      "{1, 2, 3, 5}\n",
      "{1, 2, 3, 5}\n"
     ]
    }
   ],
   "source": [
    "# set\n",
    "my_set = {1,3,5}\n",
    "print(my_set)\n",
    "my_set.update({2,4,5}) # update in place\n",
    "print(\"my set: \", my_set)\n",
    "\n",
    "new_set = my_set | {1,2,7} # Union\n",
    "print(new_set)\n",
    "new_set = my_set & {1,2,7} # Intersection\n",
    "print(new_set)\n",
    "new_set = my_set - {1,2,7} # new set = {(ele in set1) and (ele not in set2)}\n",
    "print(new_set)\n",
    "new_set = my_set ^ {1,2,7} # new set = {ele in one set, but not the other}\n",
    "print(new_set)\n",
    "\n",
    "# inclusion\n",
    "print(my_set <= {1,2,3,4,5}, my_set < {1,2,9}, my_set != {1,2,3,4})\n",
    "my_set.discard(4)\n",
    "print(my_set)\n",
    "my_set.discard(10)\n",
    "print(my_set)\n",
    "# my_set.remove(4) # would raise KeyError if not found\n"
   ]
  },
  {
   "cell_type": "code",
   "execution_count": 317,
   "metadata": {},
   "outputs": [
    {
     "name": "stdout",
     "output_type": "stream",
     "text": [
      "1 = (0) * (3) + (1), so (1) % (3) = 1\n",
      "-1 = (-1) * (3) + (2), so (-1) % (3) = 2\n",
      "1 = (-1) * (-3) + (-2), so (1) % (-3) = -2\n",
      "-1 = (0) * (-3) + (-1), so (-1) % (-3) = -1\n",
      "1.2 = (0.0) * (3) + (1.2), so (1.2) % (3) = 1.2\n"
     ]
    }
   ],
   "source": [
    "# The modulo operator (\"%\")\n",
    "template = \"{n} = ({q}) * ({k}) + ({r}), so ({n}) % ({k}) = {mod}\"\n",
    "for (n, k) in [(1, 3), (-1, 3), (1, -3), (-1, -3), (1.2, 3)]:\n",
    "    quotient = n // k\n",
    "    remainder = n - k * quotient\n",
    "    print(template.format(n=n, q=quotient, k=k, r=remainder, mod=n%k))\n",
    "# Observation: the signal of mod is always the same as the signal of k."
   ]
  },
  {
   "cell_type": "code",
   "execution_count": 7,
   "metadata": {},
   "outputs": [
    {
     "name": "stdout",
     "output_type": "stream",
     "text": [
      "1.6666666666666667\n",
      "1\n"
     ]
    }
   ],
   "source": [
    "# Basic operations\n",
    "# division & integer division\n",
    "print(5/3)\n",
    "print(5//3)"
   ]
  },
  {
   "cell_type": "code",
   "execution_count": 280,
   "metadata": {},
   "outputs": [
    {
     "name": "stdout",
     "output_type": "stream",
     "text": [
      "original:  [0, 1, 2, 3, 4, 5, 6, 7, 8, 9]\n",
      "reversed:  [9, 8, 7, 6, 5, 4, 3, 2, 1, 0]\n",
      "reversed:  [9, 8, 7, 6, 5, 4, 3, 2, 1, 0]\n",
      "after copy changed:  [0, 1, 2, 3, 4, 5, 6, 7, 8, 9]\n",
      "after actually changed:  [-5, -4, -3, -2, -1, 0, 1, 2, 3, 4, 5]\n",
      "Using slice(): [-4, -2]\n"
     ]
    }
   ],
   "source": [
    "# slicing\n",
    "arr = list(range(10))\n",
    "print(\"original: \", arr)\n",
    "## reverse\n",
    "print(\"reversed: \", arr[-1::-1])\n",
    "print(\"reversed: \", arr[::-1]) # simpler\n",
    "\n",
    "## a COPY of the original array\n",
    "arr_copy = arr[:]\n",
    "arr_copy[0] = 2\n",
    "print(\"after copy changed: \", arr)\n",
    "## NOTICE: below is to modify the original array\n",
    "arr[:] = list(range(-5, 6))\n",
    "print(\"after actually changed: \", arr)\n",
    "\n",
    "## Using built-in function slice() is similar\n",
    "sl = slice(1, 5, 2)\n",
    "sliced = arr[sl]\n",
    "print(f\"Using slice(): {sliced}\")"
   ]
  },
  {
   "cell_type": "code",
   "execution_count": 94,
   "metadata": {},
   "outputs": [
    {
     "name": "stdout",
     "output_type": "stream",
     "text": [
      "test\n",
      "End of test.\n"
     ]
    }
   ],
   "source": [
    "# Exception\n",
    "# \"else\" branch will be executed if no exception occurs. \"finally\" will be executed whether exceptions exist or not.\n",
    "# Use except branch to catch exceptions, including self-defined exeptions.\n",
    "class SelfDefinedException(Exception):\n",
    "    def __init__(self, param):\n",
    "        super().__init__()\n",
    "        self.param = param\n",
    "        \n",
    "try:\n",
    "    pass\n",
    "    raise SelfDefinedException('test')\n",
    "except (SelfDefinedException) as e:\n",
    "    print(e.param)\n",
    "except:\n",
    "    print(\"Nothing\")\n",
    "else:\n",
    "    print(\"Nothing Happened.\")\n",
    "finally:\n",
    "    print(\"End of test.\")"
   ]
  },
  {
   "cell_type": "code",
   "execution_count": 195,
   "metadata": {},
   "outputs": [
    {
     "name": "stdout",
     "output_type": "stream",
     "text": [
      "# Binary\n",
      "True\n",
      "True\n",
      "\n",
      "# Numbers\n",
      "0b11001\n",
      "0o31\n",
      "0x19\n",
      "(1+2j)\n",
      "1\n",
      "\n",
      "# Characters\n",
      "a\n",
      "97\n",
      "\n",
      "# Display variables / attributes, etc.\n",
      "4576806024\n",
      "\n",
      "# Misc.\n",
      "True\n",
      "True\n",
      "True\n",
      "\n",
      "Self-defined max: 5\n",
      "\n",
      "0\n",
      "1\n",
      "2\n",
      "3\n"
     ]
    }
   ],
   "source": [
    "# Built-in functions\n",
    "examples = [\n",
    "            \"# Binary\",\n",
    "            all([True, True]),\n",
    "            any([True, False]),\n",
    "            \n",
    "            \"\\n# Numbers\",\n",
    "            bin(25),\n",
    "            oct(25),\n",
    "            hex(25),\n",
    "            complex(1, 2),\n",
    "            min([1,2,3]),\n",
    "    \n",
    "            \"\\n# Characters\",\n",
    "            chr(97),\n",
    "            ord('a'),\n",
    "\n",
    "            \"\\n# Display variables / attributes, etc.\",\n",
    "            # dir(sys),\n",
    "            id(examples),\n",
    "            # globals(),\n",
    "            # locals(),\n",
    "    \n",
    "            \"\\n# Misc.\",\n",
    "            callable(set),\n",
    "            isinstance(2, int),\n",
    "            issubclass(int, object),\n",
    "            # help(print)\n",
    "           ]\n",
    "for ex in examples:\n",
    "    print(ex)\n",
    "print('') # Insert a blank line\n",
    "\n",
    "# Max, min with self-defined functions\n",
    "arr = [1,2,3,4,5,6,7,8]\n",
    "max_val = max(arr, key = lambda x: x%6)\n",
    "print(f\"Self-defined max: {max_val}\\n\")\n",
    "\n",
    "# Iteraror\n",
    "it = iter(range(5))\n",
    "print(next(it))\n",
    "print(next(it))\n",
    "print(next(it))\n",
    "print(next(it))"
   ]
  },
  {
   "cell_type": "code",
   "execution_count": 212,
   "metadata": {},
   "outputs": [
    {
     "name": "stdout",
     "output_type": "stream",
     "text": [
      "James\n",
      "90\n",
      "{'name': 'James', 'grade': 90}\n"
     ]
    },
    {
     "ename": "TypeError",
     "evalue": "'dict' object is not callable",
     "output_type": "error",
     "traceback": [
      "\u001b[0;31m---------------------------------------------------------------------------\u001b[0m",
      "\u001b[0;31mTypeError\u001b[0m                                 Traceback (most recent call last)",
      "\u001b[0;32m<ipython-input-212-1b6f0eb23fbc>\u001b[0m in \u001b[0;36m<module>\u001b[0;34m()\u001b[0m\n\u001b[1;32m     20\u001b[0m \u001b[0mprint\u001b[0m\u001b[0;34m(\u001b[0m\u001b[0mstu\u001b[0m\u001b[0;34m.\u001b[0m\u001b[0mgrade\u001b[0m\u001b[0;34m)\u001b[0m\u001b[0;34m\u001b[0m\u001b[0m\n\u001b[1;32m     21\u001b[0m \u001b[0mprint\u001b[0m\u001b[0;34m(\u001b[0m\u001b[0mvars\u001b[0m\u001b[0;34m(\u001b[0m\u001b[0mstu\u001b[0m\u001b[0;34m)\u001b[0m\u001b[0;34m)\u001b[0m \u001b[0;31m# equivalent: stu.__dict__\u001b[0m\u001b[0;34m\u001b[0m\u001b[0m\n\u001b[0;32m---> 22\u001b[0;31m \u001b[0mstu\u001b[0m\u001b[0;34m.\u001b[0m\u001b[0m__dict__\u001b[0m\u001b[0;34m(\u001b[0m\u001b[0;34m)\u001b[0m\u001b[0;34m\u001b[0m\u001b[0m\n\u001b[0m",
      "\u001b[0;31mTypeError\u001b[0m: 'dict' object is not callable"
     ]
    }
   ],
   "source": [
    "# Classes\n",
    "class Person(object):\n",
    "    def __init__(self, name = 'James'):\n",
    "        self.name = name\n",
    "        \n",
    "class Student(Person):\n",
    "    def __init__(self, name = 'James'):\n",
    "        # This statement cann't be ommited, since the class Student \n",
    "        # wouldn't have all attributes in Person. Unless we leave out the __init__ function, \n",
    "        # in which case, constructor in the base class wouldn't be overridden.\n",
    "        super().__init__(name) \n",
    "        self.grade = 0\n",
    "        \n",
    "    def set_grade(self, val):\n",
    "        self.grade = val\n",
    "\n",
    "stu = Student()\n",
    "print(stu.name)\n",
    "stu.set_grade(90)\n",
    "print(stu.grade)\n",
    "print(vars(stu)) # equivalent: stu.__dict__ (__dict__ is an attribute, not callable)"
   ]
  },
  {
   "cell_type": "code",
   "execution_count": 263,
   "metadata": {},
   "outputs": [
    {
     "name": "stdout",
     "output_type": "stream",
     "text": [
      "a: 1, b: [2, 3, 4, 5]\n"
     ]
    }
   ],
   "source": [
    "# statements\n",
    "## value swap\n",
    "a = 2; b = 3\n",
    "a, b = b, a\n",
    "## unpacking\n",
    "a, *b = [1, 2, 3, 4, 5]\n",
    "print(f\"a: {a}, b: {b}\")"
   ]
  },
  {
   "cell_type": "code",
   "execution_count": 284,
   "metadata": {},
   "outputs": [
    {
     "name": "stdout",
     "output_type": "stream",
     "text": [
      "[30, 2, 3, 4, 5, 6] [4, 5, 6]\n"
     ]
    }
   ],
   "source": [
    "a = [1,2,3]\n",
    "b = [4,5,6]\n",
    "a.extend(b)\n",
    "a[0] = 30\n",
    "print(a, b)"
   ]
  },
  {
   "cell_type": "code",
   "execution_count": null,
   "metadata": {},
   "outputs": [],
   "source": []
  }
 ],
 "metadata": {
  "kernelspec": {
   "display_name": "Python 3",
   "language": "python",
   "name": "python3"
  },
  "language_info": {
   "codemirror_mode": {
    "name": "ipython",
    "version": 3
   },
   "file_extension": ".py",
   "mimetype": "text/x-python",
   "name": "python",
   "nbconvert_exporter": "python",
   "pygments_lexer": "ipython3",
   "version": "3.6.5"
  }
 },
 "nbformat": 4,
 "nbformat_minor": 2
}
