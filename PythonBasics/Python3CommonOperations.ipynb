{
 "cells": [
  {
   "cell_type": "markdown",
   "metadata": {},
   "source": [
    "## Strings"
   ]
  },
  {
   "cell_type": "code",
   "execution_count": 1,
   "metadata": {},
   "outputs": [
    {
     "name": "stdout",
     "output_type": "stream",
     "text": [
      "HelloWorld\n",
      "Newlines are defined by \\n.\n"
     ]
    }
   ],
   "source": [
    "# A backslash inside string doesn't start a new line in that string.\n",
    "str1 = \"Hello\\\n",
    "World\"\n",
    "print(str1)\n",
    "\n",
    "# 'r' before string.\n",
    "str2 = r\"Newlines are defined by \\n.\"\n",
    "print(str2)\n",
    "\n",
    "# string variables cannot be modified.\n",
    "# str2[0] = 'n' # ERROR HERE"
   ]
  },
  {
   "cell_type": "markdown",
   "metadata": {},
   "source": [
    "# Linear containers"
   ]
  },
  {
   "cell_type": "code",
   "execution_count": 3,
   "metadata": {},
   "outputs": [
    {
     "ename": "NameError",
     "evalue": "name 'array' is not defined",
     "output_type": "error",
     "traceback": [
      "\u001b[0;31m---------------------------------------------------------------------------\u001b[0m",
      "\u001b[0;31mNameError\u001b[0m                                 Traceback (most recent call last)",
      "\u001b[0;32m<ipython-input-3-1315394b7729>\u001b[0m in \u001b[0;36m<module>\u001b[0;34m()\u001b[0m\n\u001b[1;32m      1\u001b[0m \u001b[0;31m# Sort\u001b[0m\u001b[0;34m\u001b[0m\u001b[0;34m\u001b[0m\u001b[0m\n\u001b[0;32m----> 2\u001b[0;31m \u001b[0msorted\u001b[0m\u001b[0;34m(\u001b[0m\u001b[0marray\u001b[0m\u001b[0;34m,\u001b[0m \u001b[0mcmp\u001b[0m \u001b[0;34m=\u001b[0m \u001b[0mcmp_\u001b[0m\u001b[0;34m)\u001b[0m\u001b[0;34m\u001b[0m\u001b[0m\n\u001b[0m\u001b[1;32m      3\u001b[0m \u001b[0msorted\u001b[0m\u001b[0;34m(\u001b[0m\u001b[0mmap\u001b[0m\u001b[0;34m.\u001b[0m\u001b[0mitems\u001b[0m\u001b[0;34m,\u001b[0m \u001b[0mkey\u001b[0m \u001b[0;34m=\u001b[0m \u001b[0;32mlambda\u001b[0m \u001b[0mx\u001b[0m\u001b[0;34m:\u001b[0m\u001b[0mx\u001b[0m\u001b[0;34m[\u001b[0m\u001b[0;36m0\u001b[0m\u001b[0;34m]\u001b[0m\u001b[0;34m,\u001b[0m \u001b[0mreverse\u001b[0m\u001b[0;34m=\u001b[0m\u001b[0;32mTrue\u001b[0m\u001b[0;34m)\u001b[0m\u001b[0;34m\u001b[0m\u001b[0m\n",
      "\u001b[0;31mNameError\u001b[0m: name 'array' is not defined"
     ]
    }
   ],
   "source": [
    "# Sort\n",
    "sorted(array, cmp = cmp_)\n",
    "sorted(map.items, key = lambda x:x[0], reverse=True)"
   ]
  },
  {
   "cell_type": "code",
   "execution_count": 203,
   "metadata": {},
   "outputs": [
    {
     "name": "stdout",
     "output_type": "stream",
     "text": [
      "1\n",
      "2\n",
      "3\n",
      "4\n",
      "5\n",
      "\n",
      "5\n",
      "4\n",
      "3\n",
      "2\n",
      "1\n"
     ]
    }
   ],
   "source": [
    "# Iterables are objects with a __iter__ or __getitem__ method, including list, dict etc.\n",
    "# In fact, we can iterate a list like this:\n",
    "arr = [1, 2, 3, 4, 5]\n",
    "it = arr.__iter__()\n",
    "# it = iter(arr) # This works just the same.\n",
    "for _ in range(len(arr)):\n",
    "    print(next(it))\n",
    "print('')\n",
    "\n",
    "## another way to do this\n",
    "# rit = arr.__reversed__()\n",
    "rit = reversed(arr) # Just the same\n",
    "for _ in range(len(arr)):\n",
    "    print(next(rit))\n",
    "    \n",
    "# zip\n",
    "a = [1,2,3]\n",
    "b = [1,2,3,4,5]\n",
    "for (i,j) in zip(*(a, b)):\n",
    "    print(i,j)"
   ]
  },
  {
   "cell_type": "code",
   "execution_count": 2,
   "metadata": {},
   "outputs": [
    {
     "name": "stdout",
     "output_type": "stream",
     "text": [
      "[0, 1, 2]\n"
     ]
    }
   ],
   "source": [
    "arr = [[0], [1, 2]]\n",
    "print(sum(arr, [])) # sum(arr, start) -> start + arr[0] + arr[1] + ..."
   ]
  },
  {
   "cell_type": "code",
   "execution_count": 6,
   "metadata": {},
   "outputs": [
    {
     "name": "stdout",
     "output_type": "stream",
     "text": [
      "[[0, 0, 0, 0, 0, 0, 0, 0, 0, 0], [0, 0, 0, 0, 0, 0, 0, 0, 0, 0], [0, 0, 0, 0, 0, 0, 0, 0, 0, 0], [0, 0, 0, 0, 0, 0, 0, 0, 0, 0], [0, 0, 0, 0, 0, 0, 0, 0, 0, 0], [0, 0, 0, 0, 0, 0, 0, 0, 0, 0], [0, 0, 0, 0, 0, 0, 0, 0, 0, 0], [0, 0, 0, 0, 0, 0, 0, 0, 0, 0], [0, 0, 0, 0, 0, 0, 0, 0, 0, 0], [0, 0, 0, 0, 0, 0, 0, 0, 0, 0]]\n"
     ]
    }
   ],
   "source": [
    "# 2d array init\n",
    "dp = [[0 for _ in range(10)] for _ in range(10)]\n",
    "print(dp)\n",
    "# todo: use [] * 10 is wrong (see contest notebook)"
   ]
  },
  {
   "cell_type": "code",
   "execution_count": 6,
   "metadata": {},
   "outputs": [
    {
     "name": "stdout",
     "output_type": "stream",
     "text": [
      "1 = (0) * (3) + (1), so (1) % (3) = 1\n",
      "-1 = (-1) * (3) + (2), so (-1) % (3) = 2\n",
      "1 = (-1) * (-3) + (-2), so (1) % (-3) = -2\n",
      "-1 = (0) * (-3) + (-1), so (-1) % (-3) = -1\n",
      "1.2 = (0.0) * (3) + (1.2), so (1.2) % (3) = 1.2\n"
     ]
    }
   ],
   "source": [
    "# The modulo operator (\"%\")\n",
    "template = \"{n} = ({q}) * ({k}) + ({r}), so ({n}) % ({k}) = {mod}\"\n",
    "for (n, k) in [(1, 3), (-1, 3), (1, -3), (-1, -3), (1.2, 3)]:\n",
    "    quotient = n // k\n",
    "    remainder = n - k * quotient\n",
    "    print(template.format(n=n, q=quotient, k=k, r=remainder, mod=n%k))\n",
    "# Observation: the signal of mod is always the same as the signal of k."
   ]
  },
  {
   "cell_type": "code",
   "execution_count": 7,
   "metadata": {},
   "outputs": [
    {
     "name": "stdout",
     "output_type": "stream",
     "text": [
      "1.6666666666666667\n",
      "1\n"
     ]
    }
   ],
   "source": [
    "# Basic operations\n",
    "# division & integer division\n",
    "print(5/3)\n",
    "print(5//3)"
   ]
  },
  {
   "cell_type": "code",
   "execution_count": 206,
   "metadata": {},
   "outputs": [
    {
     "name": "stdout",
     "output_type": "stream",
     "text": [
      "original:  [0, 1, 2, 3, 4, 5, 6, 7, 8, 9]\n",
      "reversed:  [9, 8, 7, 6, 5, 4, 3, 2, 1, 0]\n",
      "after copy changed:  [0, 1, 2, 3, 4, 5, 6, 7, 8, 9]\n",
      "after actually changed:  [-5, -4, -3, -2, -1, 0, 1, 2, 3, 4, 5]\n",
      "Using slice(): [-4, -2]\n"
     ]
    }
   ],
   "source": [
    "# slicing\n",
    "arr = list(range(10))\n",
    "print(\"original: \", arr)\n",
    "## reverse\n",
    "print(\"reversed: \", arr[-1::-1])\n",
    "## a COPY of the original array\n",
    "arr_copy = arr[:]\n",
    "arr_copy[0] = 2\n",
    "print(\"after copy changed: \", arr)\n",
    "## NOTICE: below is to modify the original array\n",
    "arr[:] = list(range(-5, 6))\n",
    "print(\"after actually changed: \", arr)\n",
    "\n",
    "## Using built-in function slice() is similar\n",
    "sl = slice(1, 5, 2)\n",
    "sliced = arr[sl]\n",
    "print(f\"Using slice(): {sliced}\")"
   ]
  },
  {
   "cell_type": "code",
   "execution_count": 94,
   "metadata": {},
   "outputs": [
    {
     "name": "stdout",
     "output_type": "stream",
     "text": [
      "test\n",
      "End of test.\n"
     ]
    }
   ],
   "source": [
    "# Exception\n",
    "# \"else\" branch will be executed if no exception occurs. \"finally\" will be executed whether exceptions exist or not.\n",
    "# Use except branch to catch exceptions, including self-defined exeptions.\n",
    "class SelfDefinedException(Exception):\n",
    "    def __init__(self, param):\n",
    "        super().__init__()\n",
    "        self.param = param\n",
    "        \n",
    "try:\n",
    "    pass\n",
    "    raise SelfDefinedException('test')\n",
    "except (SelfDefinedException) as e:\n",
    "    print(e.param)\n",
    "except:\n",
    "    print(\"Nothing\")\n",
    "else:\n",
    "    print(\"Nothing Happened.\")\n",
    "finally:\n",
    "    print(\"End of test.\")"
   ]
  },
  {
   "cell_type": "code",
   "execution_count": 195,
   "metadata": {},
   "outputs": [
    {
     "name": "stdout",
     "output_type": "stream",
     "text": [
      "# Binary\n",
      "True\n",
      "True\n",
      "\n",
      "# Numbers\n",
      "0b11001\n",
      "0o31\n",
      "0x19\n",
      "(1+2j)\n",
      "1\n",
      "\n",
      "# Characters\n",
      "a\n",
      "97\n",
      "\n",
      "# Display variables / attributes, etc.\n",
      "4576806024\n",
      "\n",
      "# Misc.\n",
      "True\n",
      "True\n",
      "True\n",
      "\n",
      "Self-defined max: 5\n",
      "\n",
      "0\n",
      "1\n",
      "2\n",
      "3\n"
     ]
    }
   ],
   "source": [
    "# Built-in functions\n",
    "examples = [\n",
    "            \"# Binary\",\n",
    "            all([True, True]),\n",
    "            any([True, False]),\n",
    "            \n",
    "            \"\\n# Numbers\",\n",
    "            bin(25),\n",
    "            oct(25),\n",
    "            hex(25),\n",
    "            complex(1, 2),\n",
    "            min([1,2,3]),\n",
    "    \n",
    "            \"\\n# Characters\",\n",
    "            chr(97),\n",
    "            ord('a'),\n",
    "\n",
    "            \"\\n# Display variables / attributes, etc.\",\n",
    "            # dir(sys),\n",
    "            id(examples),\n",
    "            # globals(),\n",
    "            # locals(),\n",
    "    \n",
    "            \"\\n# Misc.\",\n",
    "            callable(set),\n",
    "            isinstance(2, int),\n",
    "            issubclass(int, object),\n",
    "            # help(print)\n",
    "           ]\n",
    "for ex in examples:\n",
    "    print(ex)\n",
    "print('') # Insert a blank line\n",
    "\n",
    "# Max, min with self-defined functions\n",
    "arr = [1,2,3,4,5,6,7,8]\n",
    "max_val = max(arr, key = lambda x: x%6)\n",
    "print(f\"Self-defined max: {max_val}\\n\")\n",
    "\n",
    "# Iteraror\n",
    "it = iter(range(5))\n",
    "print(next(it))\n",
    "print(next(it))\n",
    "print(next(it))\n",
    "print(next(it))"
   ]
  },
  {
   "cell_type": "code",
   "execution_count": 207,
   "metadata": {},
   "outputs": [
    {
     "name": "stdout",
     "output_type": "stream",
     "text": [
      "James\n",
      "90\n",
      "{'name': 'James', 'grade': 90}\n"
     ]
    }
   ],
   "source": [
    "# Classes\n",
    "class Person(object):\n",
    "    def __init__(self, name = 'James'):\n",
    "        self.name = name\n",
    "        \n",
    "class Student(Person):\n",
    "    def __init__(self, name = 'James'):\n",
    "        # This statement cann't be ommited, since the class Student \n",
    "        # wouldn't have all attributes in Person. Unless we leave out the __init__ function, \n",
    "        # in which case, constructor in the base class wouldn't be overridden.\n",
    "        super().__init__(name) \n",
    "        self.grade = 0\n",
    "        \n",
    "    def set_grade(self, val):\n",
    "        self.grade = val\n",
    "\n",
    "stu = Student()\n",
    "print(stu.name)\n",
    "stu.set_grade(90)\n",
    "print(stu.grade)\n",
    "print(vars(stu))"
   ]
  },
  {
   "cell_type": "code",
   "execution_count": 210,
   "metadata": {},
   "outputs": [
    {
     "name": "stdout",
     "output_type": "stream",
     "text": [
      "1 1\n",
      "2 2\n",
      "3 3\n"
     ]
    }
   ],
   "source": []
  },
  {
   "cell_type": "code",
   "execution_count": null,
   "metadata": {},
   "outputs": [],
   "source": []
  }
 ],
 "metadata": {
  "kernelspec": {
   "display_name": "Python 3",
   "language": "python",
   "name": "python3"
  },
  "language_info": {
   "codemirror_mode": {
    "name": "ipython",
    "version": 3
   },
   "file_extension": ".py",
   "mimetype": "text/x-python",
   "name": "python",
   "nbconvert_exporter": "python",
   "pygments_lexer": "ipython3",
   "version": "3.6.5"
  }
 },
 "nbformat": 4,
 "nbformat_minor": 2
}
