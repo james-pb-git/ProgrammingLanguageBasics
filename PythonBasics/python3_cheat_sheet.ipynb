{
 "cells": [
  {
   "cell_type": "markdown",
   "metadata": {},
   "source": [
    "# 1. Literals and basic variables\n",
    "## 1.1 Numbers"
   ]
  },
  {
   "cell_type": "code",
   "execution_count": 374,
   "metadata": {},
   "outputs": [
    {
     "name": "stdout",
     "output_type": "stream",
     "text": [
      "[-6, -5.4, -5, -5]\n",
      "-0b1111011 7\n",
      "-0o173 -0x7b\n",
      "True\n",
      "True True\n",
      "(1+2j) 1.0 2.0\n"
     ]
    }
   ],
   "source": [
    "import math\n",
    "\n",
    "# basic methods\n",
    "x = -5.42\n",
    "examples = [math.floor(x), # the largest integer i <= x\n",
    "            round(x,1),\n",
    "            math.trunc(x), # the nearest interger towards zero.\n",
    "            math.ceil(x)\n",
    "           ]\n",
    "print([ex for ex in examples])\n",
    "\n",
    "# number base conversion\n",
    "num = -123\n",
    "print(bin(i), i.bit_length())\n",
    "print(oct(i), hex(i))\n",
    "\n",
    "# floating point numbers\n",
    "d = 3.0\n",
    "print(d.is_integer())\n",
    "\n",
    "# boolean numbers\n",
    "print(all([True, True, True]),\n",
    "      any([True, False, False]))\n",
    "\n",
    "# complex numbers\n",
    "c = complex(1, 2)\n",
    "print(c, c.real, c.imag)"
   ]
  },
  {
   "cell_type": "markdown",
   "metadata": {},
   "source": [
    "## 1.2 Strings"
   ]
  },
  {
   "cell_type": "code",
   "execution_count": 377,
   "metadata": {},
   "outputs": [
    {
     "name": "stdout",
     "output_type": "stream",
     "text": [
      "['a', 97, 3, 2, -1, True, 9, 'Heaao worad']\n",
      "HelloWorld\n",
      "Newlines are defined by \\n.\n",
      "abcdefghijklmnopqrstuvwxyz\n",
      "abcdefghijklmnopqrstuvwxyz\n"
     ]
    }
   ],
   "source": [
    "# Useful built-in functions\n",
    "str = \"Hello world\"\n",
    "examples = [chr(97),\n",
    "            ord('a'),\n",
    "            str.count('l'),\n",
    "            str.find('l'),\n",
    "            str.find('p'), # if str.index('p') is used, a ValueError would be raised\n",
    "            str.startswith('H') and str.endswith('ld'),\n",
    "            str.rfind('l'),\n",
    "            str.replace('l', 'a') # This is not in place operation, because strings are immutable.\n",
    "           ]\n",
    "# some other methods: split, strip, rstrip, upper, lower, isupper\n",
    "print([ex for ex in examples])\n",
    "\n",
    "# A backslash inside string doesn't start a new line in that string.\n",
    "str1 = \"Hello\\\n",
    "World\"\n",
    "print(str1)\n",
    "\n",
    "# 'r' before string. Especially useful for regular expressions.\n",
    "str2 = r\"Newlines are defined by \\n.\"\n",
    "print(str2)\n",
    "\n",
    "# string variables are immutable.\n",
    "# str2[0] = 'n' # ERROR HERE\n",
    "\n",
    "# When concatenating immutable variables, new objects are created.\n",
    "# So this is inefficient:\n",
    "str = ''\n",
    "for idx in range(26):\n",
    "    str += chr(97+idx)\n",
    "print(str)\n",
    "\n",
    "# A much better way is:\n",
    "arr = []\n",
    "for idx in range(26):\n",
    "    arr.append(chr(97+idx))\n",
    "print(''.join(arr))"
   ]
  },
  {
   "cell_type": "markdown",
   "metadata": {},
   "source": [
    "# 2. Operators and statements"
   ]
  },
  {
   "cell_type": "code",
   "execution_count": 400,
   "metadata": {},
   "outputs": [
    {
     "name": "stdout",
     "output_type": "stream",
     "text": [
      "1.6666666666666667\n",
      "1\n",
      "3 2\n",
      "a: 1, b: [2, 3, 4, 5]\n"
     ]
    }
   ],
   "source": [
    "# division & integer division\n",
    "print(5/3)\n",
    "print(5//3)\n",
    "\n",
    "# value swap\n",
    "a = 2; b = 3\n",
    "a, b = b, a\n",
    "print(a, b)\n",
    "\n",
    "# unpacking\n",
    "a, *b = [1, 2, 3, 4, 5]\n",
    "print(f\"a: {a}, b: {b}\")"
   ]
  },
  {
   "cell_type": "code",
   "execution_count": 317,
   "metadata": {},
   "outputs": [
    {
     "name": "stdout",
     "output_type": "stream",
     "text": [
      "1 = (0) * (3) + (1), so (1) % (3) = 1\n",
      "-1 = (-1) * (3) + (2), so (-1) % (3) = 2\n",
      "1 = (-1) * (-3) + (-2), so (1) % (-3) = -2\n",
      "-1 = (0) * (-3) + (-1), so (-1) % (-3) = -1\n",
      "1.2 = (0.0) * (3) + (1.2), so (1.2) % (3) = 1.2\n"
     ]
    }
   ],
   "source": [
    "# The modulo operator (\"%\")\n",
    "# Observation: the signal of mod is always the same as the signal of k.\n",
    "template = \"{n} = ({q}) * ({k}) + ({r}), so ({n}) % ({k}) = {mod}\"\n",
    "for (n, k) in [(1, 3), (-1, 3), (1, -3), (-1, -3), (1.2, 3)]:\n",
    "    quotient = n // k\n",
    "    remainder = n - k * quotient\n",
    "    print(template.format(n=n, q=quotient, k=k, r=remainder, mod=n%k))"
   ]
  },
  {
   "cell_type": "markdown",
   "metadata": {},
   "source": [
    "# 3. Data structures (containers)\n",
    "## 3.0 Conversions"
   ]
  },
  {
   "cell_type": "code",
   "execution_count": 401,
   "metadata": {},
   "outputs": [
    {
     "name": "stdout",
     "output_type": "stream",
     "text": [
      "['a', 'b', 'c', 'd']\n",
      "abc\n",
      "{1: 2, 3: 4}\n",
      "[(1, 2), (3, 4)]\n",
      "{1, 2, 3}\n",
      "[1, 2, 3]\n"
     ]
    }
   ],
   "source": [
    "# string <-> list\n",
    "arr = list(\"abcd\")\n",
    "st = ''.join(['a', 'b', 'c'])\n",
    "print(arr)\n",
    "print(st)\n",
    "\n",
    "# list <-> dict\n",
    "my_dict = dict([[1,2],[3,4]])\n",
    "my_dict = dict([(1,2),(3,4)]) # Also works\n",
    "items = list(my_dict.items())\n",
    "print(my_dict)\n",
    "print(items)\n",
    "\n",
    "# set <-> list\n",
    "my_set = set([1,2,3])\n",
    "arr = list(my_set)\n",
    "print(my_set)\n",
    "print(arr)"
   ]
  },
  {
   "cell_type": "markdown",
   "metadata": {},
   "source": [
    "## 3.1 Sequences\n",
    "### Basic operations"
   ]
  },
  {
   "cell_type": "code",
   "execution_count": 402,
   "metadata": {},
   "outputs": [
    {
     "name": "stdout",
     "output_type": "stream",
     "text": [
      "True\n",
      "[0, 5]\n",
      "True False\n",
      "True False\n",
      "True True\n",
      "Self-defined max: 5\n",
      "\n"
     ]
    }
   ],
   "source": [
    "# Comparison is based on lexicographical order\n",
    "a = [1,2,3]\n",
    "b = [1,3,2]\n",
    "print(a < b)\n",
    "print(min([1,3],[1,4],[0,5]))\n",
    "\n",
    "# \"==\" vs is\n",
    "a = b = [1,2,3]\n",
    "c = [1,2,3]\n",
    "print(a is b, a is c) # Compare the references\n",
    "print(id(a) == id(b), id(a) == id(c)) # The same as above.\n",
    "print(a == b, a == c) # Comparison of values contained.\n",
    "\n",
    "# Max, min with self-defined functions\n",
    "arr = [1,2,3,4,5,6,7,8]\n",
    "max_val = max(arr, key = lambda x: x%6)\n",
    "print(f\"Self-defined max: {max_val}\\n\")"
   ]
  },
  {
   "cell_type": "markdown",
   "metadata": {},
   "source": [
    "### Sorting"
   ]
  },
  {
   "cell_type": "code",
   "execution_count": 371,
   "metadata": {},
   "outputs": [
    {
     "name": "stdout",
     "output_type": "stream",
     "text": [
      "[0, -1, -2, 3, 5]\n",
      "[(2, 6), (1, 5), (4, 2), (3, 1)]\n"
     ]
    }
   ],
   "source": [
    "# in place: iterable.sort()\n",
    "array = [0,3,-1,5,-2]\n",
    "array.sort(key = lambda x: abs(x)) # in place\n",
    "print(array)\n",
    "\n",
    "# return a new instance: sorted(iterable)\n",
    "my_dict = {1:5, 2:6, 3:1, 4:2}\n",
    "print(sorted(my_dict.items(), key = lambda x:x[1], reverse=True))"
   ]
  },
  {
   "cell_type": "markdown",
   "metadata": {},
   "source": [
    "### Iteration"
   ]
  },
  {
   "cell_type": "code",
   "execution_count": 387,
   "metadata": {},
   "outputs": [
    {
     "name": "stdout",
     "output_type": "stream",
     "text": [
      "[1, 2, 3, 4, 5]\n",
      "[5, 4, 3, 2, 1]\n",
      "[5, 4, 3, 2, 1]\n",
      "[(1, 1), (2, 2), (3, 3)]\n"
     ]
    }
   ],
   "source": [
    "# Iterables are objects with a __iter__ or __getitem__ method, including list, dict etc.\n",
    "# In fact, we can iterate a list like this:\n",
    "arr = [1, 2, 3, 4, 5]\n",
    "it = iter(arr)\n",
    "# it = arr.__iter__() # This works just the same.\n",
    "print([next(it) for _ in range(len(arr))])\n",
    "\n",
    "# iteration in reversed order\n",
    "print([ele for ele in arr[::-1]]) # using slicing\n",
    "\n",
    "rit = reversed(arr) # Using built-in reversed (won't modify original array)\n",
    "# rit = arr.__reversed__() # the same\n",
    "print([next(rit) for _ in range(len(arr))])\n",
    "    \n",
    "# zip: iterating multiple lists, will ends at the shortest one.\n",
    "a = [1,2,3]\n",
    "b = [1,2,3,4,5]\n",
    "print([(i, j) for (i, j) in zip(a, b)])"
   ]
  },
  {
   "cell_type": "markdown",
   "metadata": {},
   "source": [
    "### Slicing"
   ]
  },
  {
   "cell_type": "code",
   "execution_count": 388,
   "metadata": {
    "scrolled": true
   },
   "outputs": [
    {
     "name": "stdout",
     "output_type": "stream",
     "text": [
      "original:  [0, 1, 2, 3, 4, 5, 6, 7, 8, 9]\n",
      "reversed:  [9, 8, 7, 6, 5, 4, 3, 2, 1, 0]\n",
      "reversed:  [9, 8, 7, 6, 5, 4, 3, 2, 1, 0]\n",
      "after copy changed:  [0, 1, 2, 3, 4, 5, 6, 7, 8, 9]\n",
      "after actually changed:  [-5, -4, -3, -2, -1, 0, 1, 2, 3, 4, 5]\n",
      "Using slice(): [-4, -2]\n"
     ]
    }
   ],
   "source": [
    "arr = list(range(10))\n",
    "print(\"original: \", arr)\n",
    "# reverse\n",
    "print(\"reversed: \", arr[-1::-1])\n",
    "print(\"reversed: \", arr[::-1]) # simpler\n",
    "\n",
    "# When slicing, a COPY is created, even the whole list is selected:\n",
    "arr_copy = arr[:]\n",
    "arr_copy[0] = 2\n",
    "print(\"after copy changed: \", arr)\n",
    "\n",
    "# However, slice assignment is to modify the original array.\n",
    "# This could be confusing cause the syntax is similar.\n",
    "arr[:] = list(range(-5, 6))\n",
    "print(\"after actually changed: \", arr)\n",
    "\n",
    "# Using built-in function slice() is similar\n",
    "sl = slice(1, 5, 2)\n",
    "sliced = arr[sl]\n",
    "print(f\"Using slice(): {sliced}\")"
   ]
  },
  {
   "cell_type": "markdown",
   "metadata": {},
   "source": [
    "### Lists"
   ]
  },
  {
   "cell_type": "code",
   "execution_count": 384,
   "metadata": {},
   "outputs": [
    {
     "name": "stdout",
     "output_type": "stream",
     "text": [
      "[3, 3, 2, 1, 3, 3, 2, 1] [3, 3, 2, 1, 4, 5, 6]\n",
      "[0, 1, 2, 3, 4, 5]\n",
      "0\n",
      "2\n",
      "[1, 4, 5, 6, 'a', 'b', 'c']\n",
      "[5, 1, 4, 5, 6, 'a', 'b', 'c']\n",
      "[5, 1, 4, 5, 6, 'a', 'b']\n"
     ]
    }
   ],
   "source": [
    "a = [1,2,3,3]\n",
    "a.reverse() # reverse inplace\n",
    "b = [4,5,6]\n",
    "print(a * 2, a + b) # duplicate & concatenate\n",
    "a.extend(b) # concatenate in place\n",
    "a.extend('abc') # string to list\n",
    "\n",
    "# use sum function to concatenate arrays.\n",
    "arr = [[0], [1, 2], [3,4,5]]\n",
    "print(sum(arr, [])) # sum(arr, start) -> start + arr[0] + arr[1] + ...\n",
    "\n",
    "# useful built-in functions\n",
    "print(a.index(3))\n",
    "print(a.count(3))\n",
    "del a[0:3] # the same as a[0:3] = []\n",
    "print(a)\n",
    "a.insert(0, 5)\n",
    "print(a)\n",
    "a.pop()\n",
    "print(a)\n",
    "\n",
    "# other methods: remove(first matched value)"
   ]
  },
  {
   "cell_type": "code",
   "execution_count": 336,
   "metadata": {},
   "outputs": [
    {
     "name": "stdout",
     "output_type": "stream",
     "text": [
      "[[0, 0, 0], [0, 0, 0], [0, 0, 0], [0, 0, 0]]\n",
      "[[1, 0, 0], [1, 0, 0], [1, 0, 0], [1, 0, 0]]\n",
      "[[0, 0, 0], [0, 0, 0], [0, 0, 0], [0, 0, 0]]\n",
      "[[1, 0, 0], [0, 0, 0], [0, 0, 0], [0, 0, 0]]\n",
      "[(0, 0), (0, 1), (0, 2), (0, 3), (0, 4), (1, 1), (1, 2), (1, 3), (1, 4), (2, 2), (2, 3), (2, 4)]\n"
     ]
    }
   ],
   "source": [
    "# Create 2D array\n",
    "## The INCORRECT way\n",
    "## When multiplying by 4, basically the REFERENCE of the subarray is copied 4 times.\n",
    "## That's the reason why modifying one would affect others.\n",
    "arr2d = [[0] * 3] * 4\n",
    "print(arr2d)\n",
    "arr2d[0][0] += 1\n",
    "print(arr2d)\n",
    "\n",
    "# The Correct way\n",
    "arr2d = [[0 for _ in range(3)] for _ in range(4)]\n",
    "print(arr2d)\n",
    "arr2d[0][0] += 1\n",
    "print(arr2d)\n",
    "\n",
    "# List comprehension\n",
    "a = list(range(3))\n",
    "b = list(range(5))\n",
    "print([(x, y) for x in a for y in b if x <= y])"
   ]
  },
  {
   "cell_type": "markdown",
   "metadata": {},
   "source": [
    "### Deque\n",
    "\n",
    "Since lists have attributes of append and pop, we can implement stacks using lists.\n",
    "However, arr.pop(0) results in a shift of all other elements, which is inefficient,\n",
    "so we need another way to implement queues."
   ]
  },
  {
   "cell_type": "code",
   "execution_count": 389,
   "metadata": {},
   "outputs": [
    {
     "name": "stdout",
     "output_type": "stream",
     "text": [
      "deque([9, 2, 3, 4, 5])\n"
     ]
    }
   ],
   "source": [
    "import collections\n",
    "arr = collections.deque([1,2,3,4,5])\n",
    "arr.append(6)\n",
    "arr.popleft()\n",
    "arr.appendleft(9)\n",
    "arr.pop()\n",
    "print(arr)"
   ]
  },
  {
   "cell_type": "markdown",
   "metadata": {},
   "source": [
    "### Heap (priotity queue)"
   ]
  },
  {
   "cell_type": "code",
   "execution_count": 390,
   "metadata": {},
   "outputs": [
    {
     "name": "stdout",
     "output_type": "stream",
     "text": [
      "[0, 3, 1, 7, 5, 5, 2]\n",
      "[0, 1, 2, 3, 5, 5, 7]\n"
     ]
    }
   ],
   "source": [
    "# heap queue\n",
    "from heapq import *\n",
    "arr = [1,5,2,7,3,5,0]\n",
    "h = []\n",
    "for ele in arr:\n",
    "    heappush(h, ele)\n",
    "# heapify(arr) # This also works in linear time\n",
    "print(h)\n",
    "sorted_arr = [heappop(h) for _ in range(len(arr))]\n",
    "print(sorted_arr)"
   ]
  },
  {
   "cell_type": "markdown",
   "metadata": {},
   "source": [
    "## 3.2 Set and mapping types\n",
    "\n",
    "### Dictionaries"
   ]
  },
  {
   "cell_type": "code",
   "execution_count": 395,
   "metadata": {},
   "outputs": [
    {
     "name": "stdout",
     "output_type": "stream",
     "text": [
      "True\n",
      "dict_keys(['a', 'b', 'c'])  ->  ['a', 'b', 'c']\n",
      "dict_values([1, 2, 5])  ->  [1, 2, 5]\n",
      "dict_items([('a', 1), ('b', 2), ('c', 5)])  ->  [('a', 1), ('b', 2), ('c', 5)]\n",
      "{'a': 1, 'b': 2, 'c': 3, 'd': 4}\n",
      "3 {'a': 1, 'b': 2, 'd': 4}\n",
      "{'a': 1, 'b': 2, 'd': 4}\n",
      "{'a': 1, 'b': 2, 'd': 4, 'e': -1}\n"
     ]
    }
   ],
   "source": [
    "# create\n",
    "a = dict(one=1, two=2, three=3)\n",
    "b = {'one': 1, 'two': 2, 'three': 3}\n",
    "c = dict(zip(['one', 'two', 'three'], [1, 2, 3]))\n",
    "d = dict([('two', 2), ('one', 1), ('three', 3)])\n",
    "e = dict({'three': 3, 'one': 1, 'two': 2})\n",
    "print(a == b == c == d == e)\n",
    "\n",
    "# Notice: the following methods return a dict view object,\n",
    "# which means, if the dict is modified, those objects will change accordingly.\n",
    "my_dict = {'a': 1, 'b': 2, 'c': 5}\n",
    "examples = [my_dict.keys(),\n",
    "           my_dict.values(),\n",
    "           my_dict.items()]\n",
    "for ex in examples:\n",
    "    print(ex, ' -> ', list(ex))\n",
    "    \n",
    "# Useful built-in functions\n",
    "my_dict.update({'c': 3, 'd': 4})\n",
    "print(my_dict)\n",
    "print(my_dict.pop('c'), my_dict)\n",
    "\n",
    "my_dict.get('e', -1)\n",
    "print(my_dict)\n",
    "# Notice that setdefault is actually a \"get\" method,\n",
    "# except it will set the default value if key is not found.\n",
    "my_dict.setdefault('e', -1)\n",
    "print(my_dict)"
   ]
  },
  {
   "cell_type": "markdown",
   "metadata": {},
   "source": [
    "### Set"
   ]
  },
  {
   "cell_type": "code",
   "execution_count": 396,
   "metadata": {},
   "outputs": [
    {
     "name": "stdout",
     "output_type": "stream",
     "text": [
      "{1, 3, 5}\n",
      "my set:  {1, 2, 3, 4, 5}\n",
      "{1, 2, 3, 5}\n",
      "{1, 2, 3, 5}\n",
      "{1, 2, 3, 5, 7}\n",
      "{1, 2}\n",
      "{3, 5}\n",
      "{3, 5, 7}\n",
      "True False True\n"
     ]
    }
   ],
   "source": [
    "my_set = {1,3,5}\n",
    "print(my_set)\n",
    "my_set.update({2,4,5}) # update in place\n",
    "print(\"my set: \", my_set)\n",
    "my_set.discard(4)\n",
    "print(my_set)\n",
    "my_set.discard(10)\n",
    "print(my_set)\n",
    "# my_set.remove(4) # would raise KeyError if not found\n",
    "# sets don't have a \"del\" method, because it's not key-based. \n",
    "# (In Python, \"del\" is used delete by index, while \"remove\" is to delete values.)\n",
    "\n",
    "new_set = my_set | {1,2,7} # Union\n",
    "print(new_set)\n",
    "new_set = my_set & {1,2,7} # Intersection\n",
    "print(new_set)\n",
    "new_set = my_set - {1,2,7} # new set = {(ele in set1) and (ele not in set2)}\n",
    "print(new_set)\n",
    "new_set = my_set ^ {1,2,7} # new set = {ele in one set, but not the other}\n",
    "print(new_set)\n",
    "\n",
    "# inclusion\n",
    "print(my_set <= {1,2,3,4,5}, my_set < {1,2,9}, my_set != {1,2,3,4})"
   ]
  },
  {
   "cell_type": "markdown",
   "metadata": {},
   "source": [
    "### Counter"
   ]
  },
  {
   "cell_type": "code",
   "execution_count": 397,
   "metadata": {},
   "outputs": [
    {
     "name": "stdout",
     "output_type": "stream",
     "text": [
      "Counter({' ': 6, 'l': 4, 'a': 4, 'o': 3, 'd': 3, 'e': 2, 'y': 2, 'i': 2, 'u': 2, 'H': 1, ',': 1, 'w': 1, 'r': 1, '!': 1, 'T': 1, 's': 1, 'b': 1, 't': 1, 'f': 1, '.': 1})\n",
      "4\n",
      "[(' ', 6), ('l', 4), ('a', 4)]\n",
      "dict_values([1, 2, 4, 3, 1, 6, 1, 1, 3, 1, 1, 4, 2, 2, 1, 1, 2, 1, 1, 1])\n"
     ]
    }
   ],
   "source": [
    "import collections\n",
    "arr = list('Hello, world! Today is a beautiful day.')\n",
    "c = collections.Counter(arr)\n",
    "print(c)\n",
    "print(c['l'])\n",
    "print(c.most_common(3))\n",
    "print(c.values())"
   ]
  },
  {
   "cell_type": "markdown",
   "metadata": {},
   "source": [
    "# 4. Modules and classes"
   ]
  },
  {
   "cell_type": "code",
   "execution_count": 405,
   "metadata": {},
   "outputs": [
    {
     "name": "stdout",
     "output_type": "stream",
     "text": [
      "James\n",
      "90\n",
      "{'name': 'James', 'grade': 90}\n",
      "True\n",
      "True\n"
     ]
    }
   ],
   "source": [
    "# Classes\n",
    "class Person(object):\n",
    "    def __init__(self, name = 'James'):\n",
    "        self.name = name\n",
    "        \n",
    "class Student(Person):\n",
    "    def __init__(self, name = 'James'):\n",
    "        # This statement can't be ommited, since the class Student \n",
    "        # wouldn't have all attributes in Person. Unless we leave out the __init__ function, \n",
    "        # in which case, constructor in the base class wouldn't be overridden.\n",
    "        super().__init__(name) \n",
    "        self.grade = 0\n",
    "        \n",
    "    def set_grade(self, val):\n",
    "        self.grade = val\n",
    "\n",
    "stu = Student()\n",
    "print(stu.name)\n",
    "stu.set_grade(90)\n",
    "print(stu.grade)\n",
    "print(vars(stu)) # equivalent: stu.__dict__ (__dict__ is an attribute, not callable)\n",
    "\n",
    "# Some built-in functions\n",
    "print(isinstance(2, int))\n",
    "print(issubclass(int, object))"
   ]
  },
  {
   "cell_type": "markdown",
   "metadata": {},
   "source": [
    "# 5. Misc.\n",
    "### Exception"
   ]
  },
  {
   "cell_type": "code",
   "execution_count": 94,
   "metadata": {},
   "outputs": [
    {
     "name": "stdout",
     "output_type": "stream",
     "text": [
      "test\n",
      "End of test.\n"
     ]
    }
   ],
   "source": [
    "# \"else\" branch will be executed if no exception occurs. \n",
    "# \"finally\" will be executed whether exceptions exist or not.\n",
    "# Use except branch to catch exceptions, including self-defined exeptions.\n",
    "class SelfDefinedException(Exception):\n",
    "    def __init__(self, param):\n",
    "        super().__init__()\n",
    "        self.param = param\n",
    "        \n",
    "try:\n",
    "    pass\n",
    "    raise SelfDefinedException('test')\n",
    "except (SelfDefinedException) as e:\n",
    "    print(e.param)\n",
    "except:\n",
    "    print(\"Nothing\")\n",
    "else:\n",
    "    print(\"Nothing Happened.\")\n",
    "finally:\n",
    "    print(\"End of test.\")"
   ]
  },
  {
   "cell_type": "markdown",
   "metadata": {},
   "source": [
    "### Some other built-in methods"
   ]
  },
  {
   "cell_type": "code",
   "execution_count": 404,
   "metadata": {},
   "outputs": [
    {
     "name": "stdout",
     "output_type": "stream",
     "text": [
      "[4577213448, True]\n"
     ]
    }
   ],
   "source": [
    "examples = [\n",
    "            # dir(sys),\n",
    "            id(examples),\n",
    "            # globals(),\n",
    "            # locals(),\n",
    "            callable(set),\n",
    "            # help(print)\n",
    "           ]\n",
    "print([ex for ex in examples])"
   ]
  },
  {
   "cell_type": "code",
   "execution_count": 2,
   "metadata": {},
   "outputs": [],
   "source": [
    "str = \"abc\"\n",
    "str = str.replace('a','b')"
   ]
  },
  {
   "cell_type": "code",
   "execution_count": 3,
   "metadata": {},
   "outputs": [
    {
     "data": {
      "text/plain": [
       "'bbc'"
      ]
     },
     "execution_count": 3,
     "metadata": {},
     "output_type": "execute_result"
    }
   ],
   "source": [
    "str"
   ]
  },
  {
   "cell_type": "code",
   "execution_count": null,
   "metadata": {},
   "outputs": [],
   "source": []
  }
 ],
 "metadata": {
  "kernelspec": {
   "display_name": "Python 3",
   "language": "python",
   "name": "python3"
  },
  "language_info": {
   "codemirror_mode": {
    "name": "ipython",
    "version": 3
   },
   "file_extension": ".py",
   "mimetype": "text/x-python",
   "name": "python",
   "nbconvert_exporter": "python",
   "pygments_lexer": "ipython3",
   "version": "3.6.5"
  }
 },
 "nbformat": 4,
 "nbformat_minor": 2
}
